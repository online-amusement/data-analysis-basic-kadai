{
  "nbformat": 4,
  "nbformat_minor": 0,
  "metadata": {
    "colab": {
      "provenance": []
    },
    "kernelspec": {
      "name": "python3",
      "display_name": "Python 3"
    },
    "language_info": {
      "name": "python"
    }
  },
  "cells": [
    {
      "cell_type": "code",
      "source": [
        "from sklearn.datasets import load_wine\n",
        "from sklearn.model_selection import train_test_split\n",
        "from sklearn.ensemble import RandomForestClassifier\n",
        "from sklearn.metrics import accuracy_score\n",
        "import pandas as pd\n",
        "import numpy as np\n",
        "\n",
        "\n",
        "dataset = load_wine()\n",
        "df = pd.DataFrame(data=dataset.data, columns=dataset.feature_names)\n",
        "df[\"category\"] = dataset.target\n",
        "df.head()\n",
        "X = dataset.data\n",
        "y = dataset.target\n",
        "#学習データとテストデータに分割\n",
        "train_test_split(X, y, test_size=0.3, random_state=5)\n",
        "#それぞれ変数に格納\n",
        "X_train, X_test, y_train, y_test = train_test_split(X, y, test_size=0.3, random_state=5)\n",
        "\n",
        "model = RandomForestClassifier(random_state=3)\n",
        "#学習\n",
        "model.fit(X_train, y_train)\n",
        "#予測\n",
        "y_pred = model.predict(X_test)\n",
        "y_pred\n",
        "y_test\n",
        "#評価(正解率)\n",
        "accuracy_score(y_test, y_pred)"
      ],
      "metadata": {
        "colab": {
          "base_uri": "https://localhost:8080/"
        },
        "id": "swV_ZlxUEVK6",
        "outputId": "2e99d920-b9ff-4a6d-a8fd-6912bfb65dac"
      },
      "execution_count": 38,
      "outputs": [
        {
          "output_type": "execute_result",
          "data": {
            "text/plain": [
              "0.9629629629629629"
            ]
          },
          "metadata": {},
          "execution_count": 38
        }
      ]
    },
    {
      "cell_type": "code",
      "source": [],
      "metadata": {
        "id": "yn5iKM64IDxB"
      },
      "execution_count": null,
      "outputs": []
    }
  ]
}