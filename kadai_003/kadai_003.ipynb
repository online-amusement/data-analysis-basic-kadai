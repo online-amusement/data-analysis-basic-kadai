{
  "nbformat": 4,
  "nbformat_minor": 0,
  "metadata": {
    "colab": {
      "provenance": []
    },
    "kernelspec": {
      "name": "python3",
      "display_name": "Python 3"
    },
    "language_info": {
      "name": "python"
    }
  },
  "cells": [
    {
      "cell_type": "code",
      "execution_count": 73,
      "metadata": {
        "colab": {
          "base_uri": "https://localhost:8080/"
        },
        "id": "HNmHktDRMHMG",
        "outputId": "3042b660-e9e6-4ffb-9a4d-2ec63c5154fd"
      },
      "outputs": [
        {
          "output_type": "stream",
          "name": "stdout",
          "text": [
            "[[ 4  5  6  7]\n",
            " [12 17 22 27]\n",
            " [20 29 38 47]]\n",
            "47\n"
          ]
        }
      ],
      "source": [
        "import numpy as np\n",
        "\n",
        "A = ([[0,1],[2,3],[4,5]])\n",
        "B = ([[0,1,2,3],[4,5,6,7]])\n",
        "matrix = np.dot(A,B)\n",
        "print(matrix)\n",
        "print(matrix.max())"
      ]
    },
    {
      "cell_type": "code",
      "source": [],
      "metadata": {
        "id": "xc10_vR38Vwy"
      },
      "execution_count": null,
      "outputs": []
    }
  ]
}