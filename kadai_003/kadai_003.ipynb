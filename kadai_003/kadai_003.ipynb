{
  "nbformat": 4,
  "nbformat_minor": 0,
  "metadata": {
    "colab": {
      "provenance": []
    },
    "kernelspec": {
      "name": "python3",
      "display_name": "Python 3"
    },
    "language_info": {
      "name": "python"
    }
  },
  "cells": [
    {
      "cell_type": "code",
      "execution_count": 72,
      "metadata": {
        "colab": {
          "base_uri": "https://localhost:8080/"
        },
        "id": "HNmHktDRMHMG",
        "outputId": "816248b7-969d-4252-e56d-00f4cf2b6912"
      },
      "outputs": [
        {
          "output_type": "stream",
          "name": "stdout",
          "text": [
            "[[ 0  0  0  0  0  0  0  0]\n",
            " [ 0  1  2  3  4  5  6  7]\n",
            " [ 0  2  4  6  8 10 12 14]\n",
            " [ 0  3  6  9 12 15 18 21]\n",
            " [ 0  4  8 12 16 20 24 28]\n",
            " [ 0  5 10 15 20 25 30 35]]\n",
            "35\n"
          ]
        }
      ],
      "source": [
        "import numpy as np\n",
        "\n",
        "A = ([[0],[1],[2],[3],[4],[5]])\n",
        "B = ([[0,1,2,3,4,5,6,7]])\n",
        "matrix = np.dot(A,B)\n",
        "print(matrix)\n",
        "print(matrix.max())"
      ]
    },
    {
      "cell_type": "code",
      "source": [],
      "metadata": {
        "id": "xc10_vR38Vwy"
      },
      "execution_count": null,
      "outputs": []
    }
  ]
}